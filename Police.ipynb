{
 "cells": [
  {
   "cell_type": "code",
   "execution_count": 4,
   "id": "99d382e9",
   "metadata": {},
   "outputs": [],
   "source": [
    "import pandas as pd"
   ]
  },
  {
   "cell_type": "code",
   "execution_count": 5,
   "id": "0ee8c8ae",
   "metadata": {},
   "outputs": [
    {
     "name": "stdout",
     "output_type": "stream",
     "text": [
      "       stop_date stop_time country_name driver_gender  driver_age_raw  \\\n",
      "0     2020-01-01  00:00:00       Canada             M              59   \n",
      "1     2020-01-01  00:01:00        India             M              35   \n",
      "2     2020-01-01  00:02:00          USA             M              26   \n",
      "3     2020-01-01  00:03:00       Canada             M              26   \n",
      "4     2020-01-01  00:04:00       Canada             M              62   \n",
      "...          ...       ...          ...           ...             ...   \n",
      "65533 2020-02-15  12:13:00        India             F              54   \n",
      "65534 2020-02-15  12:14:00       Canada             F              18   \n",
      "65535 2020-02-15  12:15:00          USA             M              27   \n",
      "65536 2020-02-15  12:16:00       Canada             F              49   \n",
      "65537 2020-02-15  12:17:00          USA             F              72   \n",
      "\n",
      "       driver_age driver_race     violation_raw violation  search_conducted  \\\n",
      "0              19       Asian     Drunk Driving  Speeding              True   \n",
      "1              58       Other             Other     Other             False   \n",
      "2              76       Black  Signal Violation  Speeding             False   \n",
      "3              76       Black          Speeding       DUI              True   \n",
      "4              75       Other          Speeding     Other             False   \n",
      "...           ...         ...               ...       ...               ...   \n",
      "65533          48       Black             Other     Other             False   \n",
      "65534          35    Hispanic          Seatbelt     Other              True   \n",
      "65535          41       Asian          Seatbelt       DUI              True   \n",
      "65536          63       Black          Seatbelt     Other             False   \n",
      "65537          32       Other          Seatbelt  Speeding              True   \n",
      "\n",
      "          search_type stop_outcome  is_arrested stop_duration  \\\n",
      "0      Vehicle Search       Ticket         True     16-30 Min   \n",
      "1      Vehicle Search       Arrest         True     16-30 Min   \n",
      "2               Frisk       Ticket         True     16-30 Min   \n",
      "3               Frisk      Warning        False      0-15 Min   \n",
      "4      Vehicle Search       Arrest         True     16-30 Min   \n",
      "...               ...          ...          ...           ...   \n",
      "65533  Vehicle Search       Arrest         True     16-30 Min   \n",
      "65534  Vehicle Search       Ticket        False     16-30 Min   \n",
      "65535           Frisk       Ticket         True       30+ Min   \n",
      "65536             NaN      Warning         True      0-15 Min   \n",
      "65537             NaN       Ticket         True     16-30 Min   \n",
      "\n",
      "       drugs_related_stop vehicle_number  \n",
      "0                    True     UP76DY3473  \n",
      "1                    True     RJ83PZ4441  \n",
      "2                    True     RJ32OM7264  \n",
      "3                    True     RJ76TI3807  \n",
      "4                   False     WB63BB8305  \n",
      "...                   ...            ...  \n",
      "65533               False     DL56GW6568  \n",
      "65534                True     TN73EO7098  \n",
      "65535                True     GJ33MX8328  \n",
      "65536                True     KA24UZ8488  \n",
      "65537               False     UP89PT2924  \n",
      "\n",
      "[65538 rows x 16 columns]\n"
     ]
    }
   ],
   "source": [
    "df=pd.read_excel(\"traffic_stops.xlsx\")\n",
    "print(df)"
   ]
  },
  {
   "cell_type": "code",
   "execution_count": 6,
   "id": "34afadbe",
   "metadata": {},
   "outputs": [
    {
     "name": "stdout",
     "output_type": "stream",
     "text": [
      "stop_date                 0\n",
      "stop_time                 0\n",
      "country_name              0\n",
      "driver_gender             0\n",
      "driver_age_raw            0\n",
      "driver_age                0\n",
      "driver_race               0\n",
      "violation_raw             0\n",
      "violation                 0\n",
      "search_conducted          0\n",
      "search_type           21720\n",
      "stop_outcome              0\n",
      "is_arrested               0\n",
      "stop_duration             0\n",
      "drugs_related_stop        0\n",
      "vehicle_number            0\n",
      "dtype: int64\n"
     ]
    }
   ],
   "source": [
    "#to check if there is any null values\n",
    "#isnull will check whether the data has null values,sum will count the number of values\n",
    "print(df.isnull().sum())"
   ]
  },
  {
   "cell_type": "code",
   "execution_count": 7,
   "id": "4aada922",
   "metadata": {},
   "outputs": [],
   "source": [
    "#filling the none values with the word 'Not Searched'\n",
    "df['search_type']=df['search_type'].fillna(\"Not Searched\")"
   ]
  },
  {
   "cell_type": "code",
   "execution_count": 8,
   "id": "65b6d2d3",
   "metadata": {},
   "outputs": [
    {
     "data": {
      "text/plain": [
       "stop_date             0\n",
       "stop_time             0\n",
       "country_name          0\n",
       "driver_gender         0\n",
       "driver_age_raw        0\n",
       "driver_age            0\n",
       "driver_race           0\n",
       "violation_raw         0\n",
       "violation             0\n",
       "search_conducted      0\n",
       "search_type           0\n",
       "stop_outcome          0\n",
       "is_arrested           0\n",
       "stop_duration         0\n",
       "drugs_related_stop    0\n",
       "vehicle_number        0\n",
       "dtype: int64"
      ]
     },
     "execution_count": 8,
     "metadata": {},
     "output_type": "execute_result"
    }
   ],
   "source": [
    "#there is no null values \n",
    "df.isnull().sum()"
   ]
  },
  {
   "cell_type": "code",
   "execution_count": 9,
   "id": "bcf01da5",
   "metadata": {},
   "outputs": [
    {
     "data": {
      "text/html": [
       "<div>\n",
       "<style scoped>\n",
       "    .dataframe tbody tr th:only-of-type {\n",
       "        vertical-align: middle;\n",
       "    }\n",
       "\n",
       "    .dataframe tbody tr th {\n",
       "        vertical-align: top;\n",
       "    }\n",
       "\n",
       "    .dataframe thead th {\n",
       "        text-align: right;\n",
       "    }\n",
       "</style>\n",
       "<table border=\"1\" class=\"dataframe\">\n",
       "  <thead>\n",
       "    <tr style=\"text-align: right;\">\n",
       "      <th></th>\n",
       "      <th>stop_date</th>\n",
       "      <th>stop_time</th>\n",
       "      <th>country_name</th>\n",
       "      <th>driver_gender</th>\n",
       "      <th>driver_age_raw</th>\n",
       "      <th>driver_age</th>\n",
       "      <th>driver_race</th>\n",
       "      <th>violation_raw</th>\n",
       "      <th>violation</th>\n",
       "      <th>search_conducted</th>\n",
       "      <th>search_type</th>\n",
       "      <th>stop_outcome</th>\n",
       "      <th>is_arrested</th>\n",
       "      <th>stop_duration</th>\n",
       "      <th>drugs_related_stop</th>\n",
       "      <th>vehicle_number</th>\n",
       "    </tr>\n",
       "  </thead>\n",
       "  <tbody>\n",
       "    <tr>\n",
       "      <th>0</th>\n",
       "      <td>2020-01-01</td>\n",
       "      <td>00:00:00</td>\n",
       "      <td>Canada</td>\n",
       "      <td>M</td>\n",
       "      <td>59</td>\n",
       "      <td>19</td>\n",
       "      <td>Asian</td>\n",
       "      <td>Drunk Driving</td>\n",
       "      <td>Speeding</td>\n",
       "      <td>True</td>\n",
       "      <td>Vehicle Search</td>\n",
       "      <td>Ticket</td>\n",
       "      <td>True</td>\n",
       "      <td>16-30 Min</td>\n",
       "      <td>True</td>\n",
       "      <td>UP76DY3473</td>\n",
       "    </tr>\n",
       "    <tr>\n",
       "      <th>1</th>\n",
       "      <td>2020-01-01</td>\n",
       "      <td>00:01:00</td>\n",
       "      <td>India</td>\n",
       "      <td>M</td>\n",
       "      <td>35</td>\n",
       "      <td>58</td>\n",
       "      <td>Other</td>\n",
       "      <td>Other</td>\n",
       "      <td>Other</td>\n",
       "      <td>False</td>\n",
       "      <td>Vehicle Search</td>\n",
       "      <td>Arrest</td>\n",
       "      <td>True</td>\n",
       "      <td>16-30 Min</td>\n",
       "      <td>True</td>\n",
       "      <td>RJ83PZ4441</td>\n",
       "    </tr>\n",
       "    <tr>\n",
       "      <th>2</th>\n",
       "      <td>2020-01-01</td>\n",
       "      <td>00:02:00</td>\n",
       "      <td>USA</td>\n",
       "      <td>M</td>\n",
       "      <td>26</td>\n",
       "      <td>76</td>\n",
       "      <td>Black</td>\n",
       "      <td>Signal Violation</td>\n",
       "      <td>Speeding</td>\n",
       "      <td>False</td>\n",
       "      <td>Frisk</td>\n",
       "      <td>Ticket</td>\n",
       "      <td>True</td>\n",
       "      <td>16-30 Min</td>\n",
       "      <td>True</td>\n",
       "      <td>RJ32OM7264</td>\n",
       "    </tr>\n",
       "    <tr>\n",
       "      <th>3</th>\n",
       "      <td>2020-01-01</td>\n",
       "      <td>00:03:00</td>\n",
       "      <td>Canada</td>\n",
       "      <td>M</td>\n",
       "      <td>26</td>\n",
       "      <td>76</td>\n",
       "      <td>Black</td>\n",
       "      <td>Speeding</td>\n",
       "      <td>DUI</td>\n",
       "      <td>True</td>\n",
       "      <td>Frisk</td>\n",
       "      <td>Warning</td>\n",
       "      <td>False</td>\n",
       "      <td>0-15 Min</td>\n",
       "      <td>True</td>\n",
       "      <td>RJ76TI3807</td>\n",
       "    </tr>\n",
       "    <tr>\n",
       "      <th>4</th>\n",
       "      <td>2020-01-01</td>\n",
       "      <td>00:04:00</td>\n",
       "      <td>Canada</td>\n",
       "      <td>M</td>\n",
       "      <td>62</td>\n",
       "      <td>75</td>\n",
       "      <td>Other</td>\n",
       "      <td>Speeding</td>\n",
       "      <td>Other</td>\n",
       "      <td>False</td>\n",
       "      <td>Vehicle Search</td>\n",
       "      <td>Arrest</td>\n",
       "      <td>True</td>\n",
       "      <td>16-30 Min</td>\n",
       "      <td>False</td>\n",
       "      <td>WB63BB8305</td>\n",
       "    </tr>\n",
       "    <tr>\n",
       "      <th>...</th>\n",
       "      <td>...</td>\n",
       "      <td>...</td>\n",
       "      <td>...</td>\n",
       "      <td>...</td>\n",
       "      <td>...</td>\n",
       "      <td>...</td>\n",
       "      <td>...</td>\n",
       "      <td>...</td>\n",
       "      <td>...</td>\n",
       "      <td>...</td>\n",
       "      <td>...</td>\n",
       "      <td>...</td>\n",
       "      <td>...</td>\n",
       "      <td>...</td>\n",
       "      <td>...</td>\n",
       "      <td>...</td>\n",
       "    </tr>\n",
       "    <tr>\n",
       "      <th>65533</th>\n",
       "      <td>2020-02-15</td>\n",
       "      <td>12:13:00</td>\n",
       "      <td>India</td>\n",
       "      <td>F</td>\n",
       "      <td>54</td>\n",
       "      <td>48</td>\n",
       "      <td>Black</td>\n",
       "      <td>Other</td>\n",
       "      <td>Other</td>\n",
       "      <td>False</td>\n",
       "      <td>Vehicle Search</td>\n",
       "      <td>Arrest</td>\n",
       "      <td>True</td>\n",
       "      <td>16-30 Min</td>\n",
       "      <td>False</td>\n",
       "      <td>DL56GW6568</td>\n",
       "    </tr>\n",
       "    <tr>\n",
       "      <th>65534</th>\n",
       "      <td>2020-02-15</td>\n",
       "      <td>12:14:00</td>\n",
       "      <td>Canada</td>\n",
       "      <td>F</td>\n",
       "      <td>18</td>\n",
       "      <td>35</td>\n",
       "      <td>Hispanic</td>\n",
       "      <td>Seatbelt</td>\n",
       "      <td>Other</td>\n",
       "      <td>True</td>\n",
       "      <td>Vehicle Search</td>\n",
       "      <td>Ticket</td>\n",
       "      <td>False</td>\n",
       "      <td>16-30 Min</td>\n",
       "      <td>True</td>\n",
       "      <td>TN73EO7098</td>\n",
       "    </tr>\n",
       "    <tr>\n",
       "      <th>65535</th>\n",
       "      <td>2020-02-15</td>\n",
       "      <td>12:15:00</td>\n",
       "      <td>USA</td>\n",
       "      <td>M</td>\n",
       "      <td>27</td>\n",
       "      <td>41</td>\n",
       "      <td>Asian</td>\n",
       "      <td>Seatbelt</td>\n",
       "      <td>DUI</td>\n",
       "      <td>True</td>\n",
       "      <td>Frisk</td>\n",
       "      <td>Ticket</td>\n",
       "      <td>True</td>\n",
       "      <td>30+ Min</td>\n",
       "      <td>True</td>\n",
       "      <td>GJ33MX8328</td>\n",
       "    </tr>\n",
       "    <tr>\n",
       "      <th>65536</th>\n",
       "      <td>2020-02-15</td>\n",
       "      <td>12:16:00</td>\n",
       "      <td>Canada</td>\n",
       "      <td>F</td>\n",
       "      <td>49</td>\n",
       "      <td>63</td>\n",
       "      <td>Black</td>\n",
       "      <td>Seatbelt</td>\n",
       "      <td>Other</td>\n",
       "      <td>False</td>\n",
       "      <td>Not Searched</td>\n",
       "      <td>Warning</td>\n",
       "      <td>True</td>\n",
       "      <td>0-15 Min</td>\n",
       "      <td>True</td>\n",
       "      <td>KA24UZ8488</td>\n",
       "    </tr>\n",
       "    <tr>\n",
       "      <th>65537</th>\n",
       "      <td>2020-02-15</td>\n",
       "      <td>12:17:00</td>\n",
       "      <td>USA</td>\n",
       "      <td>F</td>\n",
       "      <td>72</td>\n",
       "      <td>32</td>\n",
       "      <td>Other</td>\n",
       "      <td>Seatbelt</td>\n",
       "      <td>Speeding</td>\n",
       "      <td>True</td>\n",
       "      <td>Not Searched</td>\n",
       "      <td>Ticket</td>\n",
       "      <td>True</td>\n",
       "      <td>16-30 Min</td>\n",
       "      <td>False</td>\n",
       "      <td>UP89PT2924</td>\n",
       "    </tr>\n",
       "  </tbody>\n",
       "</table>\n",
       "<p>65538 rows × 16 columns</p>\n",
       "</div>"
      ],
      "text/plain": [
       "       stop_date stop_time country_name driver_gender  driver_age_raw  \\\n",
       "0     2020-01-01  00:00:00       Canada             M              59   \n",
       "1     2020-01-01  00:01:00        India             M              35   \n",
       "2     2020-01-01  00:02:00          USA             M              26   \n",
       "3     2020-01-01  00:03:00       Canada             M              26   \n",
       "4     2020-01-01  00:04:00       Canada             M              62   \n",
       "...          ...       ...          ...           ...             ...   \n",
       "65533 2020-02-15  12:13:00        India             F              54   \n",
       "65534 2020-02-15  12:14:00       Canada             F              18   \n",
       "65535 2020-02-15  12:15:00          USA             M              27   \n",
       "65536 2020-02-15  12:16:00       Canada             F              49   \n",
       "65537 2020-02-15  12:17:00          USA             F              72   \n",
       "\n",
       "       driver_age driver_race     violation_raw violation  search_conducted  \\\n",
       "0              19       Asian     Drunk Driving  Speeding              True   \n",
       "1              58       Other             Other     Other             False   \n",
       "2              76       Black  Signal Violation  Speeding             False   \n",
       "3              76       Black          Speeding       DUI              True   \n",
       "4              75       Other          Speeding     Other             False   \n",
       "...           ...         ...               ...       ...               ...   \n",
       "65533          48       Black             Other     Other             False   \n",
       "65534          35    Hispanic          Seatbelt     Other              True   \n",
       "65535          41       Asian          Seatbelt       DUI              True   \n",
       "65536          63       Black          Seatbelt     Other             False   \n",
       "65537          32       Other          Seatbelt  Speeding              True   \n",
       "\n",
       "          search_type stop_outcome  is_arrested stop_duration  \\\n",
       "0      Vehicle Search       Ticket         True     16-30 Min   \n",
       "1      Vehicle Search       Arrest         True     16-30 Min   \n",
       "2               Frisk       Ticket         True     16-30 Min   \n",
       "3               Frisk      Warning        False      0-15 Min   \n",
       "4      Vehicle Search       Arrest         True     16-30 Min   \n",
       "...               ...          ...          ...           ...   \n",
       "65533  Vehicle Search       Arrest         True     16-30 Min   \n",
       "65534  Vehicle Search       Ticket        False     16-30 Min   \n",
       "65535           Frisk       Ticket         True       30+ Min   \n",
       "65536    Not Searched      Warning         True      0-15 Min   \n",
       "65537    Not Searched       Ticket         True     16-30 Min   \n",
       "\n",
       "       drugs_related_stop vehicle_number  \n",
       "0                    True     UP76DY3473  \n",
       "1                    True     RJ83PZ4441  \n",
       "2                    True     RJ32OM7264  \n",
       "3                    True     RJ76TI3807  \n",
       "4                   False     WB63BB8305  \n",
       "...                   ...            ...  \n",
       "65533               False     DL56GW6568  \n",
       "65534                True     TN73EO7098  \n",
       "65535                True     GJ33MX8328  \n",
       "65536                True     KA24UZ8488  \n",
       "65537               False     UP89PT2924  \n",
       "\n",
       "[65538 rows x 16 columns]"
      ]
     },
     "execution_count": 9,
     "metadata": {},
     "output_type": "execute_result"
    }
   ],
   "source": [
    "df"
   ]
  },
  {
   "cell_type": "code",
   "execution_count": 10,
   "id": "24fb718c",
   "metadata": {},
   "outputs": [
    {
     "name": "stdout",
     "output_type": "stream",
     "text": [
      "<class 'pandas.core.frame.DataFrame'>\n",
      "RangeIndex: 65538 entries, 0 to 65537\n",
      "Data columns (total 16 columns):\n",
      " #   Column              Non-Null Count  Dtype         \n",
      "---  ------              --------------  -----         \n",
      " 0   stop_date           65538 non-null  datetime64[ns]\n",
      " 1   stop_time           65538 non-null  object        \n",
      " 2   country_name        65538 non-null  object        \n",
      " 3   driver_gender       65538 non-null  object        \n",
      " 4   driver_age_raw      65538 non-null  int64         \n",
      " 5   driver_age          65538 non-null  int64         \n",
      " 6   driver_race         65538 non-null  object        \n",
      " 7   violation_raw       65538 non-null  object        \n",
      " 8   violation           65538 non-null  object        \n",
      " 9   search_conducted    65538 non-null  bool          \n",
      " 10  search_type         65538 non-null  object        \n",
      " 11  stop_outcome        65538 non-null  object        \n",
      " 12  is_arrested         65538 non-null  bool          \n",
      " 13  stop_duration       65538 non-null  object        \n",
      " 14  drugs_related_stop  65538 non-null  bool          \n",
      " 15  vehicle_number      65538 non-null  object        \n",
      "dtypes: bool(3), datetime64[ns](1), int64(2), object(10)\n",
      "memory usage: 6.7+ MB\n"
     ]
    }
   ],
   "source": [
    "df.info()"
   ]
  },
  {
   "cell_type": "code",
   "execution_count": 11,
   "id": "199cf1c4",
   "metadata": {},
   "outputs": [
    {
     "name": "stdout",
     "output_type": "stream",
     "text": [
      "13:07:05.930284\n"
     ]
    }
   ],
   "source": [
    "from datetime import datetime\n",
    "now_time=datetime.now().time()\n",
    "print(now_time)"
   ]
  },
  {
   "cell_type": "code",
   "execution_count": 12,
   "id": "5c539395",
   "metadata": {},
   "outputs": [],
   "source": [
    "#to convert the datatype(object) to datetime\n",
    "df['stop_time'] = pd.to_datetime(df['stop_time'], format='%H:%M:%S', errors='coerce')\n"
   ]
  },
  {
   "cell_type": "code",
   "execution_count": 13,
   "id": "bb6ae769",
   "metadata": {},
   "outputs": [
    {
     "name": "stdout",
     "output_type": "stream",
     "text": [
      "<class 'pandas.core.frame.DataFrame'>\n",
      "RangeIndex: 65538 entries, 0 to 65537\n",
      "Data columns (total 16 columns):\n",
      " #   Column              Non-Null Count  Dtype         \n",
      "---  ------              --------------  -----         \n",
      " 0   stop_date           65538 non-null  datetime64[ns]\n",
      " 1   stop_time           65538 non-null  datetime64[ns]\n",
      " 2   country_name        65538 non-null  object        \n",
      " 3   driver_gender       65538 non-null  object        \n",
      " 4   driver_age_raw      65538 non-null  int64         \n",
      " 5   driver_age          65538 non-null  int64         \n",
      " 6   driver_race         65538 non-null  object        \n",
      " 7   violation_raw       65538 non-null  object        \n",
      " 8   violation           65538 non-null  object        \n",
      " 9   search_conducted    65538 non-null  bool          \n",
      " 10  search_type         65538 non-null  object        \n",
      " 11  stop_outcome        65538 non-null  object        \n",
      " 12  is_arrested         65538 non-null  bool          \n",
      " 13  stop_duration       65538 non-null  object        \n",
      " 14  drugs_related_stop  65538 non-null  bool          \n",
      " 15  vehicle_number      65538 non-null  object        \n",
      "dtypes: bool(3), datetime64[ns](2), int64(2), object(9)\n",
      "memory usage: 6.7+ MB\n"
     ]
    }
   ],
   "source": [
    "df.info()"
   ]
  },
  {
   "cell_type": "code",
   "execution_count": 37,
   "id": "2ec3c9ed",
   "metadata": {},
   "outputs": [],
   "source": [
    "#Connecting MySQL server\n",
    "import mysql.connector"
   ]
  },
  {
   "cell_type": "code",
   "execution_count": 36,
   "id": "35ddd53c",
   "metadata": {},
   "outputs": [
    {
     "name": "stdout",
     "output_type": "stream",
     "text": [
      "<mysql.connector.connection_cext.CMySQLConnection object at 0x000001720534EE90>\n"
     ]
    }
   ],
   "source": [
    "mydb = mysql.connector.connect(\n",
    " host=\"localhost\",\n",
    " user=\"root\",\n",
    " password=\"\",\n",
    ")\n",
    "print(mydb)\n",
    "mycursor = mydb.cursor(buffered=True)"
   ]
  },
  {
   "cell_type": "code",
   "execution_count": 16,
   "id": "a2b48461",
   "metadata": {},
   "outputs": [],
   "source": [
    "#Creating database\n",
    "mycursor.execute(\"create database digital\")"
   ]
  },
  {
   "cell_type": "code",
   "execution_count": 17,
   "id": "d50e2cd7",
   "metadata": {},
   "outputs": [],
   "source": [
    "#Creating table\n",
    "mycursor.execute(\"\"\"create table digital.ledger(\n",
    "stop_date date,\n",
    "stop_time time,\n",
    "country_name varchar(50),\n",
    "driver_gender char(1),\n",
    "driver_age_raw int,\n",
    "driver_age int,\n",
    "driver_race varchar(50),\n",
    "violation_raw varchar(50),\n",
    "violation varchar(50),\n",
    "search_conducted boolean,\n",
    "search_type varchar(50),\n",
    "stop_outcome varchar(50),\n",
    "is_arrested boolean,\n",
    "stop_duration varchar(20),\n",
    "drugs_related_stop boolean,\n",
    "vehicle_number varchar(15))\"\"\")\n",
    "mydb.commit()"
   ]
  },
  {
   "cell_type": "code",
   "execution_count": 39,
   "id": "e1855924",
   "metadata": {},
   "outputs": [],
   "source": [
    "#Inserting from dataframe to sql using tolist()\n",
    "data_to_list=df.values.tolist()\n",
    "query=\"\"\"insert into digital.ledger(stop_date,stop_time,country_name,driver_gender,driver_age_raw,driver_age,driver_race,violation_raw,violation,search_conducted,search_type,stop_outcome,is_arrested,stop_duration,drugs_related_stop,vehicle_number)\n",
    "values(%s,%s,%s,%s,%s,%s,%s,%s,%s,%s,%s,%s,%s,%s,%s,%s)\"\"\"\n",
    "mycursor.execute(\"set global max_allowed_packet=67108864\")   #this line mentions max allowed data pockets as the data set is large\n",
    "mycursor.executemany(query,data_to_list)\n",
    "\n",
    "mydb.commit()\n"
   ]
  },
  {
   "cell_type": "code",
   "execution_count": 40,
   "id": "720f1852",
   "metadata": {},
   "outputs": [
    {
     "name": "stdout",
     "output_type": "stream",
     "text": [
      "+------------------+---------+\n",
      "| vehicle_number   |   count |\n",
      "|------------------+---------|\n",
      "| DL48TG6523       |       1 |\n",
      "| WB65NV3314       |       1 |\n",
      "| GJ35SE8122       |       1 |\n",
      "| UP23CV3132       |       1 |\n",
      "| UP52MM6736       |       1 |\n",
      "| KA20QP3477       |       1 |\n",
      "| WB56SK3729       |       1 |\n",
      "| KA59MC1573       |       1 |\n",
      "| UP38VF9439       |       1 |\n",
      "| WB42JJ5979       |       1 |\n",
      "+------------------+---------+\n"
     ]
    }
   ],
   "source": [
    "#writing sql queries\n",
    "#(1) top 10 vehicle no related to drug related stops\n",
    "mycursor.execute(\"\"\"select vehicle_number,count(*) as count\n",
    "from digital.ledger\n",
    "where drugs_related_stop=TRUE\n",
    "group by vehicle_number\n",
    "order by count desc\n",
    "limit 10\"\"\")\n",
    "\n",
    "\n",
    "a=mycursor.fetchall()\n",
    "from tabulate import tabulate\n",
    "print(tabulate(a,headers=[i[0] for i in mycursor.description],tablefmt='psql'))"
   ]
  },
  {
   "cell_type": "code",
   "execution_count": 41,
   "id": "13946502",
   "metadata": {},
   "outputs": [
    {
     "name": "stdout",
     "output_type": "stream",
     "text": [
      "+------------------+------------------------------+\n",
      "| vehicle_number   |   most_frequent_search_count |\n",
      "|------------------+------------------------------|\n",
      "| KA79AR9667       |                            1 |\n",
      "| RJ15QV4100       |                            1 |\n",
      "| TN96BD7735       |                            1 |\n",
      "| WB56JV2633       |                            1 |\n",
      "| MH78YQ7877       |                            1 |\n",
      "| TN52AH5640       |                            1 |\n",
      "| TN31UD9214       |                            1 |\n",
      "| MH44ZR2257       |                            1 |\n",
      "| TN99HZ6050       |                            1 |\n",
      "| TN14DO2394       |                            1 |\n",
      "| DL26UD8746       |                            1 |\n",
      "| KA38BG8584       |                            1 |\n",
      "| MH15XT3536       |                            1 |\n",
      "| UP66JJ7042       |                            1 |\n",
      "| UP88IQ4817       |                            1 |\n",
      "+------------------+------------------------------+\n"
     ]
    }
   ],
   "source": [
    "#(2) frequently searched vehicle\n",
    "mycursor.execute(\"\"\"select vehicle_number,count(*) as most_frequent_search_count\n",
    "from digital.ledger\n",
    "where search_conducted =TRUE\n",
    "group by vehicle_number\n",
    "order by most_frequent_search_count desc\n",
    "limit 15\"\"\")\n",
    " \n",
    "a=mycursor.fetchall()\n",
    "from tabulate import tabulate\n",
    "print(tabulate(a,headers=[i[0] for i in mycursor.description],tablefmt='psql'))"
   ]
  },
  {
   "cell_type": "code",
   "execution_count": 42,
   "id": "dfdb8d4d",
   "metadata": {},
   "outputs": [
    {
     "name": "stdout",
     "output_type": "stream",
     "text": [
      "+-----------+-----------+\n",
      "|   min_age |   max_age |\n",
      "|-----------+-----------|\n",
      "|        18 |        80 |\n",
      "+-----------+-----------+\n"
     ]
    }
   ],
   "source": [
    "mycursor.execute(\"\"\"select min(driver_age) as min_age,max(driver_age) as max_age from digital.ledger\"\"\")\n",
    "a=mycursor.fetchall()\n",
    "from tabulate import tabulate\n",
    "print(tabulate(a,headers=[i[0] for i in mycursor.description],tablefmt='psql'))\n"
   ]
  },
  {
   "cell_type": "code",
   "execution_count": 44,
   "id": "cb475a70",
   "metadata": {},
   "outputs": [
    {
     "name": "stdout",
     "output_type": "stream",
     "text": [
      "+-------------+---------------+-----------+---------------+\n",
      "| age_group   |   total_stops |   arrests |   arrest_rate |\n",
      "|-------------+---------------+-----------+---------------|\n",
      "| 18-25       |          8137 |      4171 |         51.26 |\n",
      "+-------------+---------------+-----------+---------------+\n"
     ]
    }
   ],
   "source": [
    "#(3) which driver age grp have high arrest rate\n",
    "mycursor.execute(\"\"\"select case\n",
    "    when driver_age between 18 and 25 then '18-25'\n",
    "    when driver_age between 26 and 35 then '26-35'\n",
    "    when driver_age between 36 and 45 then '36-45'\n",
    "    when driver_age between 46 and 60 then '46-60'\n",
    "    else '60+' \n",
    "end as age_group,\n",
    "\n",
    "count(*) as total_stops,\n",
    "count(case when is_arrested =TRUE then 1 end) as arrests,\n",
    "round(count(case when is_arrested =TRUE then 1 end)/count(*)*100.0,2) as arrest_rate\n",
    "\n",
    "from digital.ledger\n",
    "group by age_group\n",
    "order by arrest_rate desc limit 1\"\"\")\n",
    "\n",
    "a=mycursor.fetchall()\n",
    "from tabulate import tabulate\n",
    "print(tabulate(a,headers=[i[0] for i in mycursor.description],tablefmt='psql'))\n"
   ]
  },
  {
   "cell_type": "code",
   "execution_count": 45,
   "id": "5626f28e",
   "metadata": {},
   "outputs": [
    {
     "name": "stdout",
     "output_type": "stream",
     "text": [
      "+----------------+--------+----------+\n",
      "| country_name   |   MALE |   FEMALE |\n",
      "|----------------+--------+----------|\n",
      "| Canada         |  10911 |    10997 |\n",
      "| India          |  10955 |    11043 |\n",
      "| USA            |  10791 |    10841 |\n",
      "+----------------+--------+----------+\n"
     ]
    }
   ],
   "source": [
    "#(4) gender distribution of drivers stopped in each country\n",
    "mycursor.execute(\"\"\"select country_name,count(case when driver_gender='M' then 1 end) as MALE,count(case when driver_gender='F' then 1 end) as FEMALE from digital.ledger\n",
    "group by country_name \n",
    "\n",
    "\"\"\")\n",
    "a=mycursor.fetchall()\n",
    "from tabulate import tabulate\n",
    "print(tabulate(a,headers=[i[0] for i in mycursor.description],tablefmt='psql'))\n",
    "\n"
   ]
  },
  {
   "cell_type": "code",
   "execution_count": 46,
   "id": "19371c1b",
   "metadata": {},
   "outputs": [
    {
     "name": "stdout",
     "output_type": "stream",
     "text": [
      "+---------------+-----------------+---------------+\n",
      "| driver_race   | driver_gender   |   search_rate |\n",
      "|---------------+-----------------+---------------|\n",
      "| Asian         | F               |         51.29 |\n",
      "+---------------+-----------------+---------------+\n"
     ]
    }
   ],
   "source": [
    "#(5) which race & gender combo has highest serach rate\n",
    "mycursor.execute(\"\"\"select\n",
    "driver_race,\n",
    "driver_gender,\n",
    "round(count(case when search_conducted =TRUE then 1 end)/count(*)*100.0, 2) as search_rate\n",
    "from digital.ledger\n",
    "group by driver_race, driver_gender\n",
    "order by search_rate DESC\n",
    "limit 1          \n",
    "\"\"\")\n",
    "a=mycursor.fetchall()\n",
    "from tabulate import tabulate\n",
    "print(tabulate(a,headers=[i[0] for i in mycursor.description],tablefmt='psql'))\n",
    "\n"
   ]
  },
  {
   "cell_type": "code",
   "execution_count": 47,
   "id": "a410d1cf",
   "metadata": {},
   "outputs": [
    {
     "name": "stdout",
     "output_type": "stream",
     "text": [
      "+-------------------+--------------+\n",
      "|   hour_of_the_day |   stop_count |\n",
      "|-------------------+--------------|\n",
      "|                 8 |         2760 |\n",
      "+-------------------+--------------+\n"
     ]
    }
   ],
   "source": [
    "#(6) what time of the day see the most traffic stop\n",
    "mycursor.execute(\"\"\"select hour(str_to_date(stop_time,'%H:%i')) as hour_of_the_day,count(*) as stop_count\n",
    "from digital.ledger\n",
    "group by hour_of_the_day\n",
    "order by stop_count DESC\n",
    "limit 1\n",
    "\"\"\")\n",
    "a=mycursor.fetchall()\n",
    "from tabulate import tabulate\n",
    "print(tabulate(a,headers=[i[0] for i in mycursor.description],tablefmt='psql'))\n"
   ]
  },
  {
   "cell_type": "code",
   "execution_count": 48,
   "id": "c890b121",
   "metadata": {},
   "outputs": [
    {
     "name": "stdout",
     "output_type": "stream",
     "text": [
      "+-------------+-------------------------+\n",
      "| violation   |   average_stop_duration |\n",
      "|-------------+-------------------------|\n",
      "| DUI         |                 21.7413 |\n",
      "| Other       |                 22.2033 |\n",
      "| Seatbelt    |                 21.8332 |\n",
      "| Signal      |                 21.7121 |\n",
      "| Speeding    |                 21.7945 |\n",
      "+-------------+-------------------------+\n"
     ]
    }
   ],
   "source": [
    "#(7) avg stop duration for different violation\n",
    "mycursor.execute(\"\"\"select violation,\n",
    "avg(case\n",
    "        when stop_duration = '0-15 Min' then 7.5\n",
    "        when stop_duration = '16-30 Min' then 23\n",
    "        when stop_duration = '30+ Min' then 35\n",
    "        END) as average_stop_duration\n",
    "from digital.ledger\n",
    "group by violation\"\"\")\n",
    "a=mycursor.fetchall()\n",
    "from tabulate import tabulate\n",
    "print(tabulate(a,headers=[i[0] for i in mycursor.description],tablefmt='psql'))\n"
   ]
  },
  {
   "cell_type": "code",
   "execution_count": 49,
   "id": "c2fd27eb",
   "metadata": {},
   "outputs": [
    {
     "name": "stdout",
     "output_type": "stream",
     "text": [
      "+---------------+---------------+-----------+-----------------------+\n",
      "| stop_period   |   total_stops |   arrests |   arrest_rate_percent |\n",
      "|---------------+---------------+-----------+-----------------------|\n",
      "| DAY           |         32778 |     16557 |                 50.51 |\n",
      "| NIGHT         |         32760 |     16289 |                 49.72 |\n",
      "+---------------+---------------+-----------+-----------------------+\n"
     ]
    }
   ],
   "source": [
    "#(8) are the stops during the night  are more likely to lead to arrests\n",
    "mycursor.execute(\"\"\"select\n",
    "   case\n",
    "        when hour(str_to_date(stop_time,'%H:%i'))>=18 or hour(str_to_date(stop_time,'%H:%i'))<6 \n",
    "        then 'NIGHT'\n",
    "        else 'DAY'\n",
    "    end as stop_period,\n",
    "    count(*) as total_stops,\n",
    "    count(case when is_arrested=TRUE then 1 end) as arrests,\n",
    "    round(count(case when is_arrested=TRUE then 1 end)/count(*)*100.0,2) as arrest_rate_percent\n",
    "from digital.ledger\n",
    "group by stop_period\n",
    "\"\"\")\n",
    "a=mycursor.fetchall()\n",
    "from tabulate import tabulate\n",
    "print(tabulate(a,headers=[i[0] for i in mycursor.description],tablefmt='psql'))\n",
    "\n"
   ]
  },
  {
   "cell_type": "code",
   "execution_count": 50,
   "id": "11bf7516",
   "metadata": {},
   "outputs": [
    {
     "name": "stdout",
     "output_type": "stream",
     "text": [
      "+-------------+-----------------------+-----------------------+---------------+---------------+---------------------------------+\n",
      "| violation   |   count_of_the_search |   count_of_the_arrest |   search_rate |   arrest_rate |   maximum_arrest_or_search_rate |\n",
      "|-------------+-----------------------+-----------------------+---------------+---------------+---------------------------------|\n",
      "| DUI         |                  6481 |                  6610 |         49.57 |         50.55 |                           50.55 |\n",
      "+-------------+-----------------------+-----------------------+---------------+---------------+---------------------------------+\n"
     ]
    }
   ],
   "source": [
    "#(9) which violation most associated with search or arrest\n",
    "mycursor.execute(\"\"\"select violation,\n",
    "  count(case when search_conducted=TRUE then 1 end) as count_of_the_search,\n",
    "  count(case when is_arrested=TRUE then 1 end) as count_of_the_arrest,\n",
    "  round(count(case when search_conducted=TRUE then 1 end)/count(*)*100.0,2) as search_rate,\n",
    "  round(count(case when is_arrested=TRUE then 1 end)/count(*)*100.0,2) as arrest_rate,\n",
    "  greatest(round(count(case when search_conducted=TRUE then 1 end)/count(*)*100.0,2),round(count(case when is_arrested=TRUE then 1 end)/count(*)*100.0,2)) as maximum_arrest_or_search_rate\n",
    "from digital.ledger\n",
    "group by violation\n",
    "order by maximum_arrest_or_search_rate desc limit 1\n",
    "\"\"\")\n",
    "a=mycursor.fetchall()\n",
    "from tabulate import tabulate\n",
    "print(tabulate(a,headers=[i[0] for i in mycursor.description],tablefmt='psql'))\n"
   ]
  },
  {
   "cell_type": "code",
   "execution_count": 51,
   "id": "16edfbb4",
   "metadata": {},
   "outputs": [
    {
     "name": "stdout",
     "output_type": "stream",
     "text": [
      "+-------------+--------------------+\n",
      "| violation   |   counts_of_driver |\n",
      "|-------------+--------------------|\n",
      "| Speeding    |               1476 |\n",
      "+-------------+--------------------+\n"
     ]
    }
   ],
   "source": [
    "#(10) which violation most common among young driver (i.e) less than 25\n",
    "mycursor.execute(\"\"\"select violation,count(*) as counts_of_driver from digital.ledger\n",
    "where driver_age<25\n",
    "group by violation\n",
    "order by counts_of_driver desc limit 1              \n",
    "\"\"\")\n",
    "a=mycursor.fetchall()\n",
    "from tabulate import tabulate\n",
    "print(tabulate(a,headers=[i[0] for i in mycursor.description],tablefmt='psql'))"
   ]
  },
  {
   "cell_type": "code",
   "execution_count": 52,
   "id": "91921d39",
   "metadata": {},
   "outputs": [
    {
     "name": "stdout",
     "output_type": "stream",
     "text": [
      "+-------------+-----------------------+-----------------------+---------------+---------------+--------------------------------+\n",
      "| violation   |   count_of_the_search |   count_of_the_arrest |   search_rate |   arrest_rate |   rarely_arrest_or_search_rate |\n",
      "|-------------+-----------------------+-----------------------+---------------+---------------+--------------------------------|\n",
      "| Other       |                  6576 |                  6516 |         49.84 |         49.39 |                          49.39 |\n",
      "+-------------+-----------------------+-----------------------+---------------+---------------+--------------------------------+\n"
     ]
    }
   ],
   "source": [
    "#(11) is there violation rarely result in search(or)arrest\n",
    "mycursor.execute(\"\"\"select violation,\n",
    "  count(case when search_conducted=TRUE then 1 end) as count_of_the_search,\n",
    "  count(case when is_arrested=TRUE then 1 end) as count_of_the_arrest,\n",
    "  round(count(case when search_conducted=TRUE then 1 end)/count(*)*100.0,2) as search_rate,\n",
    "  round(count(case when is_arrested=TRUE then 1 end)/count(*)*100.0,2) as arrest_rate,\n",
    "  least(round(count(case when search_conducted=TRUE then 1 end)/count(*)*100.0,2),round(count(case when is_arrested=TRUE then 1 end)/count(*)*100.0,2)) as rarely_arrest_or_search_rate\n",
    "from digital.ledger\n",
    "group by violation\n",
    "order by rarely_arrest_or_search_rate asc limit 1\n",
    "\"\"\")\n",
    "a=mycursor.fetchall()\n",
    "from tabulate import tabulate\n",
    "print(tabulate(a,headers=[i[0] for i in mycursor.description],tablefmt='psql'))\n",
    "\n"
   ]
  },
  {
   "cell_type": "code",
   "execution_count": 53,
   "id": "29535ffa",
   "metadata": {},
   "outputs": [
    {
     "name": "stdout",
     "output_type": "stream",
     "text": [
      "+----------------+--------------+----------------------------+\n",
      "| country_name   |   tot_counts |   drugs_related_stop_rates |\n",
      "|----------------+--------------+----------------------------|\n",
      "| USA            |        21632 |                      50.37 |\n",
      "+----------------+--------------+----------------------------+\n"
     ]
    }
   ],
   "source": [
    "#(12) which countries report the highest rate of drug related stops\n",
    "mycursor.execute(\"\"\"select country_name,\n",
    "count(*) as tot_counts,\n",
    "round(count(case when drugs_related_stop=TRUE then 1 end)/count(*)*100.0,2) as drugs_related_stop_rates\n",
    "from digital.ledger\n",
    "group by country_name \n",
    "order by drugs_related_stop_rates desc limit 1                                \n",
    "\"\"\")\n",
    "a=mycursor.fetchall()\n",
    "from tabulate import tabulate\n",
    "print(tabulate(a,headers=[i[0] for i in mycursor.description],tablefmt='psql'))\n"
   ]
  },
  {
   "cell_type": "code",
   "execution_count": 54,
   "id": "2bb774f1",
   "metadata": {},
   "outputs": [
    {
     "name": "stdout",
     "output_type": "stream",
     "text": [
      "+----------------+-------------+-------------+---------------+\n",
      "| country_name   | violation   |   tot_count |   arrest_rate |\n",
      "|----------------+-------------+-------------+---------------|\n",
      "| Canada         | DUI         |        4414 |         51.13 |\n",
      "| Canada         | Other       |        4371 |         50.29 |\n",
      "| Canada         | Seatbelt    |        4421 |         50.46 |\n",
      "| Canada         | Signal      |        4327 |         49.18 |\n",
      "| Canada         | Speeding    |        4375 |         49.94 |\n",
      "| India          | DUI         |        4420 |         50.84 |\n",
      "| India          | Other       |        4431 |         49.29 |\n",
      "| India          | Seatbelt    |        4345 |         50.56 |\n",
      "| India          | Signal      |        4444 |         50.65 |\n",
      "| India          | Speeding    |        4358 |         50.76 |\n",
      "| USA            | DUI         |        4241 |         49.66 |\n",
      "| USA            | Other       |        4392 |         48.59 |\n",
      "| USA            | Seatbelt    |        4241 |         50.58 |\n",
      "| USA            | Signal      |        4341 |         49.99 |\n",
      "| USA            | Speeding    |        4417 |         49.83 |\n",
      "+----------------+-------------+-------------+---------------+\n"
     ]
    }
   ],
   "source": [
    "#(13) what is the arrest rate by country & violation\n",
    "mycursor.execute(\"\"\"select country_name,violation,\n",
    "count(*) as tot_count,\n",
    "round(count(case when is_arrested=TRUE then 1 end)/count(*)*100.0,2) as arrest_rate\n",
    "from digital.ledger\n",
    "group by country_name,violation\n",
    "\"\"\")\n",
    "a=mycursor.fetchall()\n",
    "from tabulate import tabulate\n",
    "print(tabulate(a,headers=[i[0] for i in mycursor.description],tablefmt='psql'))\n"
   ]
  },
  {
   "cell_type": "code",
   "execution_count": 55,
   "id": "7919b1c5",
   "metadata": {},
   "outputs": [
    {
     "name": "stdout",
     "output_type": "stream",
     "text": [
      "+----------------+----------------+\n",
      "| country_name   |   no_of_counts |\n",
      "|----------------+----------------|\n",
      "| Canada         |          11020 |\n",
      "+----------------+----------------+\n"
     ]
    }
   ],
   "source": [
    "#(14) which country has most stop with search conducted\n",
    "mycursor.execute(\"\"\"select country_name,count(case when search_conducted=TRUE then 1 end) as no_of_counts from digital.ledger\n",
    "group by country_name\n",
    "order by no_of_counts desc limit 1\n",
    "\"\"\")\n",
    "a=mycursor.fetchall()\n",
    "from tabulate import tabulate\n",
    "print(tabulate(a,headers=[i[0] for i in mycursor.description],tablefmt='psql'))\n"
   ]
  },
  {
   "cell_type": "code",
   "execution_count": 56,
   "id": "1efef094",
   "metadata": {},
   "outputs": [
    {
     "name": "stdout",
     "output_type": "stream",
     "text": [
      "+-------------+---------+---------------+\n",
      "| violation   |   total |   arrest_rate |\n",
      "|-------------+---------+---------------|\n",
      "| DUI         |   13075 |         50.55 |\n",
      "| Seatbelt    |   13007 |         50.53 |\n",
      "| Speeding    |   13150 |         50.17 |\n",
      "| Signal      |   13112 |         49.95 |\n",
      "| Other       |   13194 |         49.39 |\n",
      "+-------------+---------+---------------+\n"
     ]
    }
   ],
   "source": [
    "#(15) top 5 violation with highest arrest rate \n",
    "mycursor.execute(\"\"\"select violation,count(*) as total,\n",
    "round(count(case when is_arrested=TRUE then 1 end)/count(*)*100,2) as arrest_rate \n",
    "from digital.ledger\n",
    "group by violation\n",
    "order by arrest_rate desc limit 5                \n",
    "\"\"\") \n",
    "a=mycursor.fetchall()\n",
    "from tabulate import tabulate\n",
    "print(tabulate(a,headers=[i[0] for i in mycursor.description],tablefmt='psql'))\n"
   ]
  },
  {
   "cell_type": "code",
   "execution_count": 57,
   "id": "606d1d5d",
   "metadata": {},
   "outputs": [
    {
     "name": "stdout",
     "output_type": "stream",
     "text": [
      "+---------------+\n",
      "| driver_race   |\n",
      "|---------------|\n",
      "| Asian         |\n",
      "| Black         |\n",
      "| Hispanic      |\n",
      "| Other         |\n",
      "| White         |\n",
      "+---------------+\n"
     ]
    }
   ],
   "source": [
    "mycursor.execute(\"\"\"select driver_race from digital.ledger group by driver_race\"\"\")\n",
    "a=mycursor.fetchall()\n",
    "from tabulate import tabulate\n",
    "print(tabulate(a,headers=[i[0] for i in mycursor.description],tablefmt='psql'))"
   ]
  },
  {
   "cell_type": "code",
   "execution_count": 58,
   "id": "9a7b4f88",
   "metadata": {},
   "outputs": [
    {
     "name": "stdout",
     "output_type": "stream",
     "text": [
      "+--------------+\n",
      "|   driver_age |\n",
      "|--------------|\n",
      "|           18 |\n",
      "|           19 |\n",
      "|           20 |\n",
      "|           21 |\n",
      "|           22 |\n",
      "|           23 |\n",
      "|           24 |\n",
      "|           25 |\n",
      "|           26 |\n",
      "|           27 |\n",
      "|           28 |\n",
      "|           29 |\n",
      "|           30 |\n",
      "|           31 |\n",
      "|           32 |\n",
      "|           33 |\n",
      "|           34 |\n",
      "|           35 |\n",
      "|           36 |\n",
      "|           37 |\n",
      "|           38 |\n",
      "|           39 |\n",
      "|           40 |\n",
      "|           41 |\n",
      "|           42 |\n",
      "|           43 |\n",
      "|           44 |\n",
      "|           45 |\n",
      "|           46 |\n",
      "|           47 |\n",
      "|           48 |\n",
      "|           49 |\n",
      "|           50 |\n",
      "|           51 |\n",
      "|           52 |\n",
      "|           53 |\n",
      "|           54 |\n",
      "|           55 |\n",
      "|           56 |\n",
      "|           57 |\n",
      "|           58 |\n",
      "|           59 |\n",
      "|           60 |\n",
      "|           61 |\n",
      "|           62 |\n",
      "|           63 |\n",
      "|           64 |\n",
      "|           65 |\n",
      "|           66 |\n",
      "|           67 |\n",
      "|           68 |\n",
      "|           69 |\n",
      "|           70 |\n",
      "|           71 |\n",
      "|           72 |\n",
      "|           73 |\n",
      "|           74 |\n",
      "|           75 |\n",
      "|           76 |\n",
      "|           77 |\n",
      "|           78 |\n",
      "|           79 |\n",
      "|           80 |\n",
      "+--------------+\n"
     ]
    }
   ],
   "source": [
    "mycursor.execute(\"\"\"select driver_age from digital.ledger group by driver_age\"\"\")\n",
    "a=mycursor.fetchall()\n",
    "from tabulate import tabulate\n",
    "print(tabulate(a,headers=[i[0] for i in mycursor.description],tablefmt='psql'))"
   ]
  },
  {
   "cell_type": "code",
   "execution_count": 59,
   "id": "c99e1295",
   "metadata": {},
   "outputs": [
    {
     "name": "stdout",
     "output_type": "stream",
     "text": [
      "+----------------+--------------+---------------+-----------------+----------------+----------------+-------------------+----------------+----------------+--------------------+----------------------------+----------------------+\n",
      "| country_name   |   tot_driver |   Male_driver |   Female_driver |   Asian_driver |   Black_driver |   Hispanic_driver |   Other_people |   White_driver |   less_than_thirty |   between_thirty_and_fifty |   greater_than_fifty |\n",
      "|----------------+--------------+---------------+-----------------+----------------+----------------+-------------------+----------------+----------------+--------------------+----------------------------+----------------------|\n",
      "| Canada         |        21908 |         10911 |           10997 |           4344 |           4342 |              4395 |           4398 |           4429 |               4177 |                       7254 |                10477 |\n",
      "| India          |        21998 |         10955 |           11043 |           4451 |           4418 |              4406 |           4377 |           4346 |               4124 |                       7355 |                10519 |\n",
      "| USA            |        21632 |         10791 |           10841 |           4316 |           4371 |              4205 |           4347 |           4393 |               4049 |                       7242 |                10341 |\n",
      "+----------------+--------------+---------------+-----------------+----------------+----------------+-------------------+----------------+----------------+--------------------+----------------------------+----------------------+\n"
     ]
    }
   ],
   "source": [
    "#(16) driver demographic by country[age,gender,race]\n",
    "mycursor.execute(\"\"\"select country_name,count(*) as tot_driver,\n",
    "count(case when driver_gender='M' then 1 end) as Male_driver,\n",
    "count(case when driver_gender='F' then 1 end) as Female_driver,\n",
    "count(case when driver_race='Asian' then 1 end) as Asian_driver,\n",
    "count(case when driver_race='Black' then 1 end) as Black_driver,\n",
    "count(case when driver_race='Hispanic' then 1 end) as Hispanic_driver,\n",
    "count(case when driver_race='Other' then 1 end) as Other_people,\n",
    "count(case when driver_race ='White' then 1 end) as White_driver,\n",
    "count(case when driver_age<30 then 1 end) as less_than_thirty,\n",
    "count(case when driver_age between 30 and 50 then 1 end) as between_thirty_and_fifty,\n",
    "count(case when driver_age>50 then 1 end) as greater_than_fifty                                  \n",
    "from digital.ledger\n",
    "group by country_name\"\"\")\n",
    "a=mycursor.fetchall()\n",
    "from tabulate import tabulate\n",
    "print(tabulate(a,headers=[i[0] for i in mycursor.description],tablefmt='psql'))"
   ]
  },
  {
   "cell_type": "code",
   "execution_count": 60,
   "id": "c97c8fe7",
   "metadata": {},
   "outputs": [
    {
     "name": "stdout",
     "output_type": "stream",
     "text": [
      "+-------------+---------------+------------------+-----------------+-----------------------+-----------------------+\n",
      "| violation   |   total_stops |   total_searches |   total_arrests |   search_rate_percent |   arrest_rate_percent |\n",
      "|-------------+---------------+------------------+-----------------+-----------------------+-----------------------|\n",
      "| Seatbelt    |         13007 |             6562 |            6573 |                 50.45 |                 50.53 |\n",
      "| Speeding    |         13150 |             6573 |            6598 |                 49.98 |                 50.17 |\n",
      "| Other       |         13194 |             6576 |            6516 |                 49.84 |                 49.39 |\n",
      "| Signal      |         13112 |             6509 |            6549 |                 49.64 |                 49.95 |\n",
      "| DUI         |         13075 |             6481 |            6610 |                 49.57 |                 50.55 |\n",
      "+-------------+---------------+------------------+-----------------+-----------------------+-----------------------+\n"
     ]
    }
   ],
   "source": [
    "#(17) violation with high search and arrest rate(window fn)\n",
    "mycursor.execute(\"\"\"select * from(select distinct violation,\n",
    "count(*) over(partition by violation) as total_stops,\n",
    "sum(case when search_conducted=TRUE then 1 else 0 end) over(partition by violation) as total_searches,\n",
    "sum(case when is_arrested=TRUE then 1 else 0 end) over(partition by violation) as total_arrests,\n",
    "round(avg(case when search_conducted=TRUE then 1 else 0 end) over(partition by violation)*100,2) as search_rate_percent,\n",
    "round(avg(case when is_arrested=TRUE then 1 else 0 end) over(partition by violation)*100,2) as arrest_rate_percent\n",
    "from digital.ledger\n",
    ")as sub\n",
    "where search_rate_percent>20 or arrest_rate_percent>20\n",
    "order by search_rate_percent desc,arrest_rate_percent desc\n",
    "\"\"\")\n",
    "a=mycursor.fetchall()\n",
    "from tabulate import tabulate\n",
    "print(tabulate(a,headers=[i[0] for i in mycursor.description],tablefmt='psql'))\n"
   ]
  },
  {
   "cell_type": "code",
   "execution_count": 61,
   "id": "799f3da4",
   "metadata": {},
   "outputs": [
    {
     "name": "stdout",
     "output_type": "stream",
     "text": [
      "+-------------+--------------+-------------+---------------+\n",
      "|   STOP_YEAR |   STOP_MONTH |   STOP_HOUR |   total_stops |\n",
      "|-------------+--------------+-------------+---------------|\n",
      "|        2020 |            1 |           0 |          1860 |\n",
      "|        2020 |            1 |           1 |          1860 |\n",
      "|        2020 |            1 |           2 |          1860 |\n",
      "|        2020 |            1 |           3 |          1860 |\n",
      "|        2020 |            1 |           4 |          1860 |\n",
      "|        2020 |            1 |           5 |          1860 |\n",
      "|        2020 |            1 |           6 |          1860 |\n",
      "|        2020 |            1 |           7 |          1860 |\n",
      "|        2020 |            1 |           8 |          1860 |\n",
      "|        2020 |            1 |           9 |          1860 |\n",
      "|        2020 |            1 |          10 |          1860 |\n",
      "|        2020 |            1 |          11 |          1860 |\n",
      "|        2020 |            1 |          12 |          1860 |\n",
      "|        2020 |            1 |          13 |          1860 |\n",
      "|        2020 |            1 |          14 |          1860 |\n",
      "|        2020 |            1 |          15 |          1860 |\n",
      "|        2020 |            1 |          16 |          1860 |\n",
      "|        2020 |            1 |          17 |          1860 |\n",
      "|        2020 |            1 |          18 |          1860 |\n",
      "|        2020 |            1 |          19 |          1860 |\n",
      "|        2020 |            1 |          20 |          1860 |\n",
      "|        2020 |            1 |          21 |          1860 |\n",
      "|        2020 |            1 |          22 |          1860 |\n",
      "|        2020 |            1 |          23 |          1860 |\n",
      "|        2020 |            2 |           0 |           900 |\n",
      "|        2020 |            2 |           1 |           900 |\n",
      "|        2020 |            2 |           2 |           900 |\n",
      "|        2020 |            2 |           3 |           900 |\n",
      "|        2020 |            2 |           4 |           900 |\n",
      "|        2020 |            2 |           5 |           900 |\n",
      "|        2020 |            2 |           6 |           900 |\n",
      "|        2020 |            2 |           7 |           900 |\n",
      "|        2020 |            2 |           8 |           900 |\n",
      "|        2020 |            2 |           9 |           900 |\n",
      "|        2020 |            2 |          10 |           900 |\n",
      "|        2020 |            2 |          11 |           900 |\n",
      "|        2020 |            2 |          12 |           858 |\n",
      "|        2020 |            2 |          13 |           840 |\n",
      "|        2020 |            2 |          14 |           840 |\n",
      "|        2020 |            2 |          15 |           840 |\n",
      "|        2020 |            2 |          16 |           840 |\n",
      "|        2020 |            2 |          17 |           840 |\n",
      "|        2020 |            2 |          18 |           840 |\n",
      "|        2020 |            2 |          19 |           840 |\n",
      "|        2020 |            2 |          20 |           840 |\n",
      "|        2020 |            2 |          21 |           840 |\n",
      "|        2020 |            2 |          22 |           840 |\n",
      "|        2020 |            2 |          23 |           840 |\n",
      "+-------------+--------------+-------------+---------------+\n"
     ]
    }
   ],
   "source": [
    "#(18) time period analysis of stops(joining with date functions),number of stops by year,month,hour of the day\n",
    "mycursor.execute(\"\"\"select\n",
    "year(str_to_date(stop_date,'%Y-%m-%d')) as STOP_YEAR,\n",
    "month(str_to_date(stop_date,'%Y-%m-%d')) as STOP_MONTH,\n",
    "hour(str_to_date(stop_time,'%H:%i')) as STOP_HOUR,\n",
    "count(*) as total_stops\n",
    "from digital.ledger\n",
    "group by STOP_YEAR,STOP_MONTH,STOP_HOUR\n",
    "order by STOP_YEAR,STOP_MONTH,STOP_HOUR\n",
    "\"\"\")\n",
    "a=mycursor.fetchall()\n",
    "from tabulate import tabulate\n",
    "print(tabulate(a,headers=[i[0] for i in mycursor.description],tablefmt='psql'))\n"
   ]
  },
  {
   "cell_type": "code",
   "execution_count": 62,
   "id": "56978cbe",
   "metadata": {},
   "outputs": [
    {
     "name": "stdout",
     "output_type": "stream",
     "text": [
      "+-------------+---------------+--------------------+\n",
      "| age_group   | driver_race   |   total_violations |\n",
      "|-------------+---------------+--------------------|\n",
      "| 16-25       | Asian         |               1587 |\n",
      "| 16-25       | Black         |               1670 |\n",
      "| 16-25       | Hispanic      |               1605 |\n",
      "| 16-25       | Other         |               1648 |\n",
      "| 16-25       | White         |               1627 |\n",
      "| 26-35       | Asian         |               2127 |\n",
      "| 26-35       | Black         |               2073 |\n",
      "| 26-35       | Hispanic      |               2084 |\n",
      "| 26-35       | Other         |               2058 |\n",
      "| 26-35       | White         |               2032 |\n",
      "| 36-50       | Asian         |               3140 |\n",
      "| 36-50       | Black         |               3100 |\n",
      "| 36-50       | Hispanic      |               3131 |\n",
      "| 36-50       | Other         |               3164 |\n",
      "| 36-50       | White         |               3155 |\n",
      "| 51+         | Asian         |               6257 |\n",
      "| 51+         | Black         |               6288 |\n",
      "| 51+         | Hispanic      |               6186 |\n",
      "| 51+         | Other         |               6252 |\n",
      "| 51+         | White         |               6354 |\n",
      "+-------------+---------------+--------------------+\n"
     ]
    }
   ],
   "source": [
    "#(19) driver violation trend based on race & age[join with subquery]\n",
    "mycursor.execute(\"\"\"select \n",
    "    age_info.age_group,\n",
    "    r.driver_race,\n",
    "    count(*) as total_violations\n",
    "from digital.ledger r\n",
    "join(\n",
    "    select distinct\n",
    "        driver_age,\n",
    "        case\n",
    "            when driver_age between 16 and 25 then '16-25'\n",
    "            when driver_age between 26 and 35 then '26-35'\n",
    "            when driver_age between 36 and 50 then '36-50'\n",
    "            when driver_age>50 then '51+'\n",
    "            else 'Unknown'\n",
    "        end as age_group from digital.ledger)as age_info on r.driver_age=age_info.driver_age\n",
    "group by age_info.age_group, r.driver_race\n",
    "order by age_info.age_group, r.driver_race;\n",
    "\"\"\")\n",
    "a=mycursor.fetchall()\n",
    "from tabulate import tabulate\n",
    "print(tabulate(a,headers=[i[0] for i in mycursor.description],tablefmt='psql'))\n",
    "\n"
   ]
  },
  {
   "cell_type": "code",
   "execution_count": 63,
   "id": "57fdc910",
   "metadata": {},
   "outputs": [
    {
     "name": "stdout",
     "output_type": "stream",
     "text": [
      "+-------------+----------------+---------------+-----------------+-----------------------+----------------------+\n",
      "|   stop_year | country_name   |   total_stops |   total_arrests |   arrest_rate_percent |   cumulative_arrests |\n",
      "|-------------+----------------+---------------+-----------------+-----------------------+----------------------|\n",
      "|        2020 | Canada         |         21908 |           10999 |                  0.01 |                10999 |\n",
      "|        2020 | India          |         21998 |           11091 |                  0.01 |                11091 |\n",
      "|        2020 | USA            |         21632 |           10756 |                  0    |                10756 |\n",
      "+-------------+----------------+---------------+-----------------+-----------------------+----------------------+\n"
     ]
    }
   ],
   "source": [
    "#(20) yearly breakdown of stops and arrests by country(using subquery and window functions)\n",
    "mycursor.execute(\"\"\"\n",
    "select\n",
    "    stats.stop_year,\n",
    "    stats.country_name,\n",
    "    stats.total_stops,\n",
    "    stats.total_arrests,\n",
    "    round(total_arrests/NULLIF(total_stops*100.0,0), 2)as arrest_rate_percent,\n",
    "    sum(total_arrests) over(partition by country_name \n",
    "    order by stop_year\n",
    "    ) as cumulative_arrests\n",
    "from(\n",
    "    select \n",
    "        year(str_to_date(stop_date,'%Y-%m-%d'))as stop_year,\n",
    "        country_name,\n",
    "        count(*) as total_stops,\n",
    "        count(if(is_arrested,1,NULL))as total_arrests\n",
    "    from digital.ledger\n",
    "    group by stop_year,country_name\n",
    ")as stats\n",
    "order by stats.country_name,stats.stop_year\n",
    "\"\"\")\n",
    "\n",
    "a=mycursor.fetchall()\n",
    "from tabulate import tabulate\n",
    "print(tabulate(a,headers=[i[0] for i in mycursor.description],tablefmt='psql'))"
   ]
  }
 ],
 "metadata": {
  "kernelspec": {
   "display_name": "Python 3",
   "language": "python",
   "name": "python3"
  },
  "language_info": {
   "codemirror_mode": {
    "name": "ipython",
    "version": 3
   },
   "file_extension": ".py",
   "mimetype": "text/x-python",
   "name": "python",
   "nbconvert_exporter": "python",
   "pygments_lexer": "ipython3",
   "version": "3.13.3"
  }
 },
 "nbformat": 4,
 "nbformat_minor": 5
}
